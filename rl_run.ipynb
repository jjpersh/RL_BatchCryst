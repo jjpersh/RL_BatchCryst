{
 "cells": [
  {
   "cell_type": "code",
   "execution_count": null,
   "metadata": {},
   "outputs": [],
   "source": [
    "import gymnasium as gym\n",
    "from gymnasium import spaces\n",
    "import numpy as np\n",
    "from custom_sim_RL import ProcessSimulation\n",
    "\n",
    "class CrystallizationEnv(gym.Env):\n",
    "    def __init__(self, profile_length=100, runtime_bounds=(10.0, 100.0)):\n",
    "        super(CrystallizationEnv, self).__init__()\n",
    "\n",
    "        self.profile_length = profile_length\n",
    "        self.temp_min = 10.0\n",
    "        self.temp_max = 90.0\n",
    "        self.runtime_min, self.runtime_max = runtime_bounds\n",
    "\n",
    "        # Action: [temperature profile..., runtime]\n",
    "        self.action_space = spaces.Box(\n",
    "            low=np.array([self.temp_min] * self.profile_length + [self.runtime_min]),\n",
    "            high=np.array([self.temp_max] * self.profile_length + [self.runtime_max]),\n",
    "            dtype=np.float32\n",
    "        )\n",
    "\n",
    "        # Observation can remain static for now\n",
    "        self.observation_space = spaces.Box(\n",
    "            low=0.0, high=1.0, shape=(1,), dtype=np.float32\n",
    "        )\n",
    "\n",
    "    def reset(self, seed=None, options=None):\n",
    "        obs = np.zeros((1,), dtype=np.float32)\n",
    "        return obs, {}\n",
    "\n",
    "    def step(self, action):\n",
    "        # Split action into temperature profile and runtime\n",
    "        temperature_profile = np.clip(action[:-1], self.temp_min, self.temp_max)\n",
    "        runtime = np.clip(action[-1], self.runtime_min, self.runtime_max)\n",
    "\n",
    "        # Simulate crystallization\n",
    "        d50, span = self._simulate_crystallization(temperature_profile, runtime)\n",
    "\n",
    "        # Reward: higher D50 and lower span\n",
    "        reward = d50 - span  # You can adjust: e.g., reward = 2 * d50 - 1.5 * span\n",
    "\n",
    "        obs = np.zeros((1,), dtype=np.float32)\n",
    "        terminated = True  # One-shot environment\n",
    "\n",
    "        return obs, reward, terminated, False, {\n",
    "            \"D50\": d50,\n",
    "            \"span\": span,\n",
    "            \"runtime\": runtime\n",
    "        }\n",
    "\n",
    "    def _simulate_crystallization(self, temperature_profile=None, runtime=None):\n",
    "        trialname = 'RLtrial'\n",
    "        sim = ProcessSimulation(trialname)\n",
    "\n",
    "        runtime = 3600\n",
    "        temps = np.array([323.15, 315, 300, 310, 295,290.0])\n",
    "\n",
    "        sim.setup_run(temp_program=temps, runtime_cryst=runtime)\n",
    "        result = sim.output()\n",
    "\n",
    "        print(result)\n",
    "        return result"
   ]
  },
  {
   "cell_type": "code",
   "execution_count": 7,
   "metadata": {},
   "outputs": [
    {
     "ename": "TypeError",
     "evalue": "unsupported operand type(s) for /: 'NoneType' and 'int'",
     "output_type": "error",
     "traceback": [
      "\u001b[1;31m---------------------------------------------------------------------------\u001b[0m",
      "\u001b[1;31mTypeError\u001b[0m                                 Traceback (most recent call last)",
      "Cell \u001b[1;32mIn[7], line 3\u001b[0m\n\u001b[0;32m      1\u001b[0m env \u001b[38;5;241m=\u001b[39m CrystallizationEnv()\n\u001b[1;32m----> 3\u001b[0m \u001b[43menv\u001b[49m\u001b[38;5;241;43m.\u001b[39;49m\u001b[43m_simulate_crystallization\u001b[49m\u001b[43m(\u001b[49m\u001b[43m)\u001b[49m\n",
      "Cell \u001b[1;32mIn[2], line 53\u001b[0m, in \u001b[0;36mCrystallizationEnv._simulate_crystallization\u001b[1;34m(self, temperature_profile, runtime)\u001b[0m\n\u001b[0;32m     51\u001b[0m \u001b[38;5;28;01mdef\u001b[39;00m\u001b[38;5;250m \u001b[39m\u001b[38;5;21m_simulate_crystallization\u001b[39m(\u001b[38;5;28mself\u001b[39m, temperature_profile\u001b[38;5;241m=\u001b[39m\u001b[38;5;28;01mNone\u001b[39;00m, runtime\u001b[38;5;241m=\u001b[39m\u001b[38;5;28;01mNone\u001b[39;00m):\n\u001b[0;32m     52\u001b[0m     \u001b[38;5;66;03m# === Replace this with your actual simulation ===\u001b[39;00m\n\u001b[1;32m---> 53\u001b[0m     mean_temp \u001b[38;5;241m=\u001b[39m \u001b[43mnp\u001b[49m\u001b[38;5;241;43m.\u001b[39;49m\u001b[43mmean\u001b[49m\u001b[43m(\u001b[49m\u001b[43mtemperature_profile\u001b[49m\u001b[43m)\u001b[49m\n\u001b[0;32m     55\u001b[0m     \u001b[38;5;66;03m# Example behavior: better D50 when temp is steady and runtime is optimal\u001b[39;00m\n\u001b[0;32m     56\u001b[0m     d50 \u001b[38;5;241m=\u001b[39m \u001b[38;5;241m2.0\u001b[39m \u001b[38;5;241m+\u001b[39m \u001b[38;5;241m0.01\u001b[39m \u001b[38;5;241m*\u001b[39m (mean_temp \u001b[38;5;241m-\u001b[39m \u001b[38;5;241m50\u001b[39m) \u001b[38;5;241m+\u001b[39m \u001b[38;5;241m0.05\u001b[39m \u001b[38;5;241m*\u001b[39m np\u001b[38;5;241m.\u001b[39mexp(\u001b[38;5;241m-\u001b[39m((runtime \u001b[38;5;241m-\u001b[39m \u001b[38;5;241m60\u001b[39m) \u001b[38;5;241m*\u001b[39m\u001b[38;5;241m*\u001b[39m \u001b[38;5;241m2\u001b[39m) \u001b[38;5;241m/\u001b[39m \u001b[38;5;241m1000\u001b[39m)\n",
      "File \u001b[1;32mc:\\Users\\jjper\\miniconda3\\envs\\PharmaPy\\lib\\site-packages\\numpy\\core\\fromnumeric.py:3504\u001b[0m, in \u001b[0;36mmean\u001b[1;34m(a, axis, dtype, out, keepdims, where)\u001b[0m\n\u001b[0;32m   3501\u001b[0m     \u001b[38;5;28;01melse\u001b[39;00m:\n\u001b[0;32m   3502\u001b[0m         \u001b[38;5;28;01mreturn\u001b[39;00m mean(axis\u001b[38;5;241m=\u001b[39maxis, dtype\u001b[38;5;241m=\u001b[39mdtype, out\u001b[38;5;241m=\u001b[39mout, \u001b[38;5;241m*\u001b[39m\u001b[38;5;241m*\u001b[39mkwargs)\n\u001b[1;32m-> 3504\u001b[0m \u001b[38;5;28;01mreturn\u001b[39;00m _methods\u001b[38;5;241m.\u001b[39m_mean(a, axis\u001b[38;5;241m=\u001b[39maxis, dtype\u001b[38;5;241m=\u001b[39mdtype,\n\u001b[0;32m   3505\u001b[0m                       out\u001b[38;5;241m=\u001b[39mout, \u001b[38;5;241m*\u001b[39m\u001b[38;5;241m*\u001b[39mkwargs)\n",
      "File \u001b[1;32mc:\\Users\\jjper\\miniconda3\\envs\\PharmaPy\\lib\\site-packages\\numpy\\core\\_methods.py:131\u001b[0m, in \u001b[0;36m_mean\u001b[1;34m(a, axis, dtype, out, keepdims, where)\u001b[0m\n\u001b[0;32m    129\u001b[0m         ret \u001b[38;5;241m=\u001b[39m ret\u001b[38;5;241m.\u001b[39mdtype\u001b[38;5;241m.\u001b[39mtype(ret \u001b[38;5;241m/\u001b[39m rcount)\n\u001b[0;32m    130\u001b[0m \u001b[38;5;28;01melse\u001b[39;00m:\n\u001b[1;32m--> 131\u001b[0m     ret \u001b[38;5;241m=\u001b[39m \u001b[43mret\u001b[49m\u001b[43m \u001b[49m\u001b[38;5;241;43m/\u001b[39;49m\u001b[43m \u001b[49m\u001b[43mrcount\u001b[49m\n\u001b[0;32m    133\u001b[0m \u001b[38;5;28;01mreturn\u001b[39;00m ret\n",
      "\u001b[1;31mTypeError\u001b[0m: unsupported operand type(s) for /: 'NoneType' and 'int'"
     ]
    }
   ],
   "source": [
    "env = CrystallizationEnv()\n",
    "\n",
    "env._simulate_crystallization()"
   ]
  }
 ],
 "metadata": {
  "kernelspec": {
   "display_name": "PharmaPy",
   "language": "python",
   "name": "python3"
  },
  "language_info": {
   "codemirror_mode": {
    "name": "ipython",
    "version": 3
   },
   "file_extension": ".py",
   "mimetype": "text/x-python",
   "name": "python",
   "nbconvert_exporter": "python",
   "pygments_lexer": "ipython3",
   "version": "3.9.21"
  }
 },
 "nbformat": 4,
 "nbformat_minor": 2
}
