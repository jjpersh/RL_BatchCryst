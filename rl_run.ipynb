{
 "cells": [
  {
   "cell_type": "code",
   "execution_count": 2,
   "metadata": {},
   "outputs": [
    {
     "name": "stderr",
     "output_type": "stream",
     "text": [
      "Could not find GLIMDA.\n"
     ]
    }
   ],
   "source": [
    "import gymnasium as gym\n",
    "from gymnasium import spaces\n",
    "import numpy as np\n",
    "from custom_sim_RL import ProcessSimulation\n",
    "\n",
    "class CrystallizationEnv(gym.Env):\n",
    "    def __init__(self, profile_length=100, runtime_bounds=(1000, 7200)):   # typical runtime is about 3600\n",
    "        super(CrystallizationEnv, self).__init__()\n",
    "\n",
    "        self.profile_length = profile_length\n",
    "        self.temp_min = 290.00\n",
    "        self.temp_max = 323.15\n",
    "        self.runtime_min, self.runtime_max = runtime_bounds\n",
    "\n",
    "        # Action: [temperature profile..., runtime]\n",
    "        self.action_space = spaces.Box(\n",
    "            low=np.array([self.temp_min] * self.profile_length + [self.runtime_min]),\n",
    "            high=np.array([self.temp_max] * self.profile_length + [self.runtime_max]),\n",
    "            dtype=np.float32\n",
    "        )\n",
    "\n",
    "        # Observation can remain static for now\n",
    "        self.observation_space = spaces.Box(\n",
    "            low=np.array([0.0, 0.0]), high=np.array([5.0, 1000]), dtype=np.float32\n",
    "        )\n",
    "\n",
    "    def reset(self, seed=None, options=None):\n",
    "        obs = np.zeros((1,), dtype=np.float32)\n",
    "        return obs, {}\n",
    "\n",
    "    def step(self, action):\n",
    "        # Split action into temperature profile and runtime\n",
    "        temperature_profile = np.clip(action[:-1], self.temp_min, self.temp_max)\n",
    "        runtime = np.clip(action[-1], self.runtime_min, self.runtime_max)\n",
    "\n",
    "        # Simulate crystallization\n",
    "        d50, span = self._simulate_crystallization(temperature_profile, runtime)\n",
    "\n",
    "        # Reward: higher D50 and lower span\n",
    "        reward = d50 - span  # You can adjust: e.g., reward = 2 * d50 - 1.5 * span\n",
    "\n",
    "        obs = np.zeros((1,), dtype=np.float32)\n",
    "        terminated = True  # One-shot environment\n",
    "\n",
    "        info =  {\n",
    "            \"D50\": d50,\n",
    "            \"span\": span,\n",
    "            \"runtime\": runtime,\n",
    "            \"episode\": {\n",
    "                \"r\": reward,\n",
    "                \"l\": 1\n",
    "            }\n",
    "        }\n",
    "\n",
    "        return obs, reward, terminated, False, info\n",
    "\n",
    "    def _simulate_crystallization(self, temperature_profile=None, runtime=None):\n",
    "    \n",
    "        sim = ProcessSimulation()\n",
    "\n",
    "        sim.setup_run(temp_program=temperature_profile, runtime_cryst=runtime)\n",
    "        d50, span = sim.output()\n",
    "\n",
    "        return d50, span"
   ]
  },
  {
   "cell_type": "code",
   "execution_count": 1,
   "metadata": {},
   "outputs": [
    {
     "ename": "NameError",
     "evalue": "name 'CrystallizationEnv' is not defined",
     "output_type": "error",
     "traceback": [
      "\u001b[1;31m---------------------------------------------------------------------------\u001b[0m",
      "\u001b[1;31mNameError\u001b[0m                                 Traceback (most recent call last)",
      "Cell \u001b[1;32mIn[1], line 4\u001b[0m\n\u001b[0;32m      1\u001b[0m \u001b[38;5;28;01mfrom\u001b[39;00m\u001b[38;5;250m \u001b[39m\u001b[38;5;21;01mstable_baselines3\u001b[39;00m\u001b[38;5;250m \u001b[39m\u001b[38;5;28;01mimport\u001b[39;00m SAC\n\u001b[0;32m      2\u001b[0m \u001b[38;5;28;01mfrom\u001b[39;00m\u001b[38;5;250m \u001b[39m\u001b[38;5;21;01mstable_baselines3\u001b[39;00m\u001b[38;5;21;01m.\u001b[39;00m\u001b[38;5;21;01mcommon\u001b[39;00m\u001b[38;5;21;01m.\u001b[39;00m\u001b[38;5;21;01mmonitor\u001b[39;00m\u001b[38;5;250m \u001b[39m\u001b[38;5;28;01mimport\u001b[39;00m Monitor\n\u001b[1;32m----> 4\u001b[0m env \u001b[38;5;241m=\u001b[39m \u001b[43mCrystallizationEnv\u001b[49m(profile_length\u001b[38;5;241m=\u001b[39m\u001b[38;5;241m100\u001b[39m, runtime_bounds\u001b[38;5;241m=\u001b[39m(\u001b[38;5;241m1000\u001b[39m, \u001b[38;5;241m7200\u001b[39m))\n\u001b[0;32m      5\u001b[0m env \u001b[38;5;241m=\u001b[39m Monitor(env)\n\u001b[0;32m      7\u001b[0m model \u001b[38;5;241m=\u001b[39m SAC(\u001b[38;5;124m\"\u001b[39m\u001b[38;5;124mMlpPolicy\u001b[39m\u001b[38;5;124m\"\u001b[39m, env, verbose\u001b[38;5;241m=\u001b[39m\u001b[38;5;241m1\u001b[39m)\n",
      "\u001b[1;31mNameError\u001b[0m: name 'CrystallizationEnv' is not defined"
     ]
    }
   ],
   "source": [
    "from stable_baselines3 import SAC\n",
    "from stable_baselines3.common.monitor import Monitor\n",
    "\n",
    "env = CrystallizationEnv(profile_length=100, runtime_bounds=(1000, 7200))\n",
    "env = Monitor(env)\n",
    "\n",
    "model = SAC(\"MlpPolicy\", env, verbose=1)\n",
    "model.learn(total_timesteps=10)\n"
   ]
  }
 ],
 "metadata": {
  "kernelspec": {
   "display_name": "PharmaPy",
   "language": "python",
   "name": "python3"
  },
  "language_info": {
   "codemirror_mode": {
    "name": "ipython",
    "version": 3
   },
   "file_extension": ".py",
   "mimetype": "text/x-python",
   "name": "python",
   "nbconvert_exporter": "python",
   "pygments_lexer": "ipython3",
   "version": "3.9.21"
  }
 },
 "nbformat": 4,
 "nbformat_minor": 2
}
