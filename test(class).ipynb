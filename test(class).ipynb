{
 "cells": [
  {
   "cell_type": "code",
   "execution_count": 3,
   "metadata": {},
   "outputs": [
    {
     "name": "stdout",
     "output_type": "stream",
     "text": [
      "Final Run Statistics: --- \n",
      "\n",
      " Number of steps                                 : 2104\n",
      " Number of function evaluations                  : 3429\n",
      " Number of Jacobian*vector evaluations           : 3233\n",
      " Number of function eval. due to Jacobian eval.  : 3429\n",
      " Number of error test failures                   : 132\n",
      " Number of nonlinear iterations                  : 3425\n",
      " Number of nonlinear convergence failures        : 28\n",
      "\n",
      "Solver options:\n",
      "\n",
      " Solver                   : CVode\n",
      " Linear multistep method  : BDF\n",
      " Nonlinear solver         : Newton\n",
      " Linear solver type       : SPGMR\n",
      " Maximal order            : 5\n",
      " Tolerances (absolute)    : 1e-06\n",
      " Tolerances (relative)    : 1e-06\n",
      "\n",
      "Simulation interval    : 0.0 - 3600.0 seconds.\n",
      "Elapsed simulation time: 1.4664411000003383 seconds.\n",
      "(15.95442718447818, 1.0517058027499229)\n"
     ]
    }
   ],
   "source": [
    "from custom_sim_RL import ProcessSimulation\n",
    "import numpy as np\n",
    "\n",
    "trialname = 'RLtrial'\n",
    "sim = ProcessSimulation(trialname)\n",
    "\n",
    "runtime = 3600\n",
    "temps = np.array([323.15, 315, 300, 310, 295,290.0])\n",
    "\n",
    "sim.setup_run(temp_program=temps, runtime_cryst=runtime)\n",
    "result = sim.output()\n",
    "\n",
    "print(result)"
   ]
  }
 ],
 "metadata": {
  "kernelspec": {
   "display_name": "PharmaPy",
   "language": "python",
   "name": "python3"
  },
  "language_info": {
   "codemirror_mode": {
    "name": "ipython",
    "version": 3
   },
   "file_extension": ".py",
   "mimetype": "text/x-python",
   "name": "python",
   "nbconvert_exporter": "python",
   "pygments_lexer": "ipython3",
   "version": "3.9.21"
  }
 },
 "nbformat": 4,
 "nbformat_minor": 2
}
